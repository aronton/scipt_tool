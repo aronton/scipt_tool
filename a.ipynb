{
 "cells": [
  {
   "cell_type": "code",
   "execution_count": 7,
   "metadata": {},
   "outputs": [],
   "source": [
    "class paraList:\n",
    "    def __init__(self,title,list):\n",
    "        print(list)\n",
    "        # self.d1 = d1\n",
    "        # self.d2 = d2\n",
    "        # self.delta = delta\n",
    "        self.d1 = list[0]\n",
    "        self.d2 = list[1]\n",
    "        self.delta = list[2]\n",
    "        self.title = title\n",
    "    def floToStr(self):\n",
    "        print(self.title)\n",
    "        return self.title + \"a\"\n",
    "    def __repr__(self):\n",
    "        return f'Point({self.d1}, {self.d2})'\n",
    "    # def d_to_str(self):\n",
    "    #     dim1 = self.d1.split(\".\")\n",
    "    #     dim2 = self.d2.split(\".\")\n",
    "    #     dim_delta = self.delta.split(\".\")\n",
    "    #     return [dim1,dim2,dim_delta]\n",
    "    \n",
    "x={\"d1\":0.1,\"d2\":0.2,\"delta_D\":0.1}\n",
    "x=[0.1,0.2,0.1]\n"
   ]
  },
  {
   "cell_type": "code",
   "execution_count": 8,
   "metadata": {},
   "outputs": [
    {
     "name": "stdout",
     "output_type": "stream",
     "text": [
      "[0.1, 0.2, 0.1]\n"
     ]
    }
   ],
   "source": [
    "a=paraList(\"Jdis\",x)"
   ]
  },
  {
   "cell_type": "code",
   "execution_count": 21,
   "metadata": {},
   "outputs": [
    {
     "data": {
      "text/plain": [
       "'0.1'"
      ]
     },
     "execution_count": 21,
     "metadata": {},
     "output_type": "execute_result"
    }
   ],
   "source": [
    "a = \".1\"\n",
    "a.zfill(3)"
   ]
  },
  {
   "cell_type": "code",
   "execution_count": 33,
   "metadata": {},
   "outputs": [],
   "source": [
    "class yy:\n",
    "    def __init__(self, x, y):\n",
    "        self.x = x\n",
    "        self.y = y\n",
    "    def __repr__(self):\n",
    "        return f'Point({self.x}, {self.y})'"
   ]
  },
  {
   "cell_type": "code",
   "execution_count": 34,
   "metadata": {},
   "outputs": [],
   "source": [
    "a=yy(1,2)"
   ]
  },
  {
   "cell_type": "code",
   "execution_count": null,
   "metadata": {},
   "outputs": [],
   "source": []
  }
 ],
 "metadata": {
  "kernelspec": {
   "display_name": "Python 3",
   "language": "python",
   "name": "python3"
  },
  "language_info": {
   "codemirror_mode": {
    "name": "ipython",
    "version": 3
   },
   "file_extension": ".py",
   "mimetype": "text/x-python",
   "name": "python",
   "nbconvert_exporter": "python",
   "pygments_lexer": "ipython3",
   "version": "3.10.8"
  }
 },
 "nbformat": 4,
 "nbformat_minor": 2
}
