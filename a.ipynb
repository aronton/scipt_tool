{
 "cells": [
  {
   "cell_type": "code",
   "execution_count": 7,
   "metadata": {},
   "outputs": [],
   "source": [
    "import re\n",
    "\n",
    "class paraList:\n",
    "    def __init__(self,title,list):\n",
    "        print(list)\n",
    "        self.x1 = float(list[0])\n",
    "        self.x2 = float(list[1])\n",
    "        self.delta = float(list[2])\n",
    "        self.title = title\n",
    "        \n",
    "    def toStr(self):\n",
    "        self.dim1 = str(self.x1)\n",
    "        self.dim2 = str(self.x2)\n",
    "        self.dimDelta = str(self.delta)\n",
    "\n",
    "        self.dim1 = re.sub(\"\\.\", \"\", self.dim1)\n",
    "        self.dim2 = re.sub(\"\\.\", \"\", self.dim2)\n",
    "        self.dimDelta = re.sub(\"\\.\", \"\", self.dimDelta)\n",
    "\n",
    "        if self.x1 > 0:\n",
    "          self.dim1 = self.dim1.ljust(3,\"0\")\n",
    "          self.dim1 = str(self.dim1)\n",
    "        else:\n",
    "          self.dim1 = re.sub(\"\\-\", \"\", self.dim1)\n",
    "          self.dim1 = self.dim1.ljust(3,\"0\")\n",
    "          self.dim1 = \"N\" + str(self.dim1)\n",
    "\n",
    "        if self.x2 > 0:\n",
    "          self.dim2 = self.dim2.ljust(3,\"0\")\n",
    "          self.dim2 = str(self.dim2)\n",
    "        else:\n",
    "          self.dim2 = re.sub(\"\\-\", \"\", self.dim2)\n",
    "          self.dim2 = self.dim2.ljust(3,\"0\")\n",
    "          self.dim2 = \"N\" + str(self.dim2)\n",
    "          \n",
    "        if self.delta > 0:\n",
    "          self.dimDelta = self.dimDelta.ljust(3,\"0\")\n",
    "          self.dimDelta = str(self.dimDelta)\n",
    "        else:\n",
    "          self.dimDelta = re.sub(\"\\-\", \"\", self.dimDelta)\n",
    "          self.dimDelta = self.dimDelta.ljust(3,\"0\")\n",
    "          self.dimDelta = \"N\" + str(self.dimDelta)\n",
    "\n",
    "        return [self.title + self.dim1, self.title + self.dim2, self.title + self.dimDelta] \n",
    "    def toFlo(self):\n",
    "        return [self.x1,self.x2,self.dimDelta]\n",
    "    def __repr__(self):\n",
    "        return f'Point({self.x1}, {self.x2}, {self.delta})'\n"
   ]
  },
  {
   "cell_type": "code",
   "execution_count": 8,
   "metadata": {},
   "outputs": [
    {
     "name": "stdout",
     "output_type": "stream",
     "text": [
      "[0.1, -1, 0.2]\n"
     ]
    },
    {
     "data": {
      "text/plain": [
       "['Jdis010', 'JdisN100', 'Jdis020']"
      ]
     },
     "execution_count": 8,
     "metadata": {},
     "output_type": "execute_result"
    }
   ],
   "source": [
    "x = [0.1,-1,0.2]\n",
    "a=paraList(\"Jdis\",x)\n",
    "a.toStr()"
   ]
  },
  {
   "cell_type": "code",
   "execution_count": 31,
   "metadata": {},
   "outputs": [
    {
     "name": "stdout",
     "output_type": "stream",
     "text": [
      "01\n"
     ]
    }
   ],
   "source": [
    "import re\n",
    "\n",
    "string = \"0.1\"\n",
    "string = re.sub(\"\\.\", \"\", string)\n",
    "print(string)"
   ]
  },
  {
   "cell_type": "code",
   "execution_count": 24,
   "metadata": {},
   "outputs": [
    {
     "ename": "AttributeError",
     "evalue": "'str' object has no attribute 'sub'",
     "output_type": "error",
     "traceback": [
      "\u001b[0;31m---------------------------------------------------------------------------\u001b[0m",
      "\u001b[0;31mAttributeError\u001b[0m                            Traceback (most recent call last)",
      "Cell \u001b[0;32mIn[24], line 2\u001b[0m\n\u001b[1;32m      1\u001b[0m a \u001b[38;5;241m=\u001b[39m \u001b[38;5;124m\"\u001b[39m\u001b[38;5;124m.1\u001b[39m\u001b[38;5;124m\"\u001b[39m\n\u001b[0;32m----> 2\u001b[0m \u001b[43ma\u001b[49m\u001b[38;5;241;43m.\u001b[39;49m\u001b[43msub\u001b[49m(\u001b[38;5;124m\"\u001b[39m\u001b[38;5;124m.\u001b[39m\u001b[38;5;124m\"\u001b[39m,\u001b[38;5;124m\"\u001b[39m\u001b[38;5;124m\"\u001b[39m)\n",
      "\u001b[0;31mAttributeError\u001b[0m: 'str' object has no attribute 'sub'"
     ]
    }
   ],
   "source": [
    "a = \".1\"\n",
    "a.sub(\".\",\"\")"
   ]
  },
  {
   "cell_type": "code",
   "execution_count": 33,
   "metadata": {},
   "outputs": [],
   "source": [
    "class yy:\n",
    "    def __init__(self, x, y):\n",
    "        self.x = x\n",
    "        self.y = y\n",
    "    def __repr__(self):\n",
    "        return f'Point({self.x}, {self.y})'"
   ]
  },
  {
   "cell_type": "code",
   "execution_count": 34,
   "metadata": {},
   "outputs": [],
   "source": [
    "a=yy(1,2)"
   ]
  },
  {
   "cell_type": "code",
   "execution_count": null,
   "metadata": {},
   "outputs": [],
   "source": []
  }
 ],
 "metadata": {
  "kernelspec": {
   "display_name": "Python 3",
   "language": "python",
   "name": "python3"
  },
  "language_info": {
   "codemirror_mode": {
    "name": "ipython",
    "version": 3
   },
   "file_extension": ".py",
   "mimetype": "text/x-python",
   "name": "python",
   "nbconvert_exporter": "python",
   "pygments_lexer": "ipython3",
   "version": "3.10.8"
  }
 },
 "nbformat": 4,
 "nbformat_minor": 2
}
