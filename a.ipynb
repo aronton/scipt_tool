{
 "cells": [
  {
   "cell_type": "code",
   "execution_count": 22,
   "metadata": {},
   "outputs": [
    {
     "name": "stdout",
     "output_type": "stream",
     "text": [
      "46\n"
     ]
    }
   ],
   "source": [
    "import datetime\n",
    "\n",
    "a=datetime.datetime.now()\n",
    "print(str((a.minute)))"
   ]
  },
  {
   "cell_type": "code",
   "execution_count": null,
   "metadata": {},
   "outputs": [],
   "source": [
    "[(i,\tj,\ti*j)\tfor\ti\tin\trange(1,5) for\tj\tin\trange(1,5)]"
   ]
  },
  {
   "cell_type": "code",
   "execution_count": 2,
   "metadata": {},
   "outputs": [
    {
     "ename": "NameError",
     "evalue": "name 'chunks' is not defined",
     "output_type": "error",
     "traceback": [
      "\u001b[0;31m---------------------------------------------------------------------------\u001b[0m",
      "\u001b[0;31mNameError\u001b[0m                                 Traceback (most recent call last)",
      "\u001b[0;32m<ipython-input-2-e578c6376e18>\u001b[0m in \u001b[0;36m<module>\u001b[0;34m\u001b[0m\n\u001b[0;32m----> 1\u001b[0;31m \u001b[0mlist\u001b[0m\u001b[0;34m(\u001b[0m\u001b[0mchunks\u001b[0m\u001b[0;34m(\u001b[0m\u001b[0mrange\u001b[0m\u001b[0;34m(\u001b[0m\u001b[0;36m1\u001b[0m\u001b[0;34m,\u001b[0m \u001b[0;36m71\u001b[0m\u001b[0;34m)\u001b[0m\u001b[0;34m,\u001b[0m \u001b[0;36m10\u001b[0m\u001b[0;34m)\u001b[0m\u001b[0;34m)\u001b[0m\u001b[0;34m\u001b[0m\u001b[0;34m\u001b[0m\u001b[0m\n\u001b[0m",
      "\u001b[0;31mNameError\u001b[0m: name 'chunks' is not defined"
     ]
    }
   ],
   "source": [
    "list(chunks(range(1, 71), 10))"
   ]
  },
  {
   "cell_type": "code",
   "execution_count": 8,
   "metadata": {},
   "outputs": [],
   "source": [
    "fh = open(\"./run1.sh\",\"w\")\n",
    "fh.write(\"#SBATCH --partition=scopion1\")\n",
    "fh.close()\n"
   ]
  },
  {
   "cell_type": "code",
   "execution_count": 16,
   "metadata": {},
   "outputs": [],
   "source": [
    "with open(\"run.sh\", \"rt\") as file:\n",
    "    x = file.read()\n",
    "with open(\"./run.sh\", \"wt\") as file:\n",
    "    x = x.replace(\"cpus-per-task\", \"cpus-per-task=4\")\n",
    "    file.write(x)"
   ]
  },
  {
   "cell_type": "code",
   "execution_count": 44,
   "metadata": {},
   "outputs": [
    {
     "ename": "TypeError",
     "evalue": "'module' object is not callable",
     "output_type": "error",
     "traceback": [
      "\u001b[0;31m---------------------------------------------------------------------------\u001b[0m",
      "\u001b[0;31mTypeError\u001b[0m                                 Traceback (most recent call last)",
      "\u001b[0;32m<ipython-input-44-08424fad95f9>\u001b[0m in \u001b[0;36m<module>\u001b[0;34m\u001b[0m\n\u001b[0;32m----> 1\u001b[0;31m \u001b[0mtSDRG_path\u001b[0m \u001b[0;34m=\u001b[0m \u001b[0mos\u001b[0m\u001b[0;34m.\u001b[0m\u001b[0msys\u001b[0m\u001b[0;34m(\u001b[0m\u001b[0;34m\"pwd\"\u001b[0m\u001b[0;34m)\u001b[0m\u001b[0;34m\u001b[0m\u001b[0;34m\u001b[0m\u001b[0m\n\u001b[0m\u001b[1;32m      2\u001b[0m \u001b[0mprint\u001b[0m\u001b[0;34m(\u001b[0m\u001b[0mtSDRG_path\u001b[0m\u001b[0;34m)\u001b[0m\u001b[0;34m\u001b[0m\u001b[0;34m\u001b[0m\u001b[0m\n",
      "\u001b[0;31mTypeError\u001b[0m: 'module' object is not callable"
     ]
    }
   ],
   "source": [
    "tSDRG_path = os.system(\"pwd\")\n",
    "print(tSDRG_path)\n"
   ]
  },
  {
   "cell_type": "code",
   "execution_count": 51,
   "metadata": {},
   "outputs": [
    {
     "name": "stdout",
     "output_type": "stream",
     "text": [
      "aaaab\n"
     ]
    }
   ],
   "source": [
    "import re\n",
    "a = \"aaaab/hh\"\n",
    "a = re.sub(\"/hh\",\"\",a)\n",
    "print(a)"
   ]
  },
  {
   "cell_type": "code",
   "execution_count": 52,
   "metadata": {},
   "outputs": [],
   "source": [
    "import re\n",
    "import os\n",
    "\n",
    "class paraList:\n",
    "    def __init__(self,title,numlist):\n",
    "        self.x1 = float(numlist[0])\n",
    "        self.x2 = float(numlist[1])\n",
    "        self.dx = float(numlist[2])\n",
    "        self.title = title\n",
    "        self.floatlist = [ round(self.x1 + i*self.dx,2)  for i in range(round((self.x2 - self.x1)/self.dx + 1))]\n",
    "        self.floatlist = list(self.floatlist)\n",
    "    def toStr(self):\n",
    "        strlist = []\n",
    "        for x in self.floatlist:\n",
    "            self.s = str(x)\n",
    "            self.s = re.sub(\"\\.\", \"\", self.s)\n",
    "            if x > 0:\n",
    "              self.s = self.title + self.s.ljust(3,\"0\")\n",
    "              self.s = str(self.s)\n",
    "            else:\n",
    "              self.s = re.sub(\"\\-\", \"\", self.s)\n",
    "              self.s = self.s.ljust(3,\"0\")\n",
    "              self.s = self.title + \"N\" + str(self.s)\n",
    "            strlist.append(self.s)\n",
    "        return strlist\n",
    "    def toFlo(self):\n",
    "        return self.floatlist\n",
    "    def __repr__(self):\n",
    "        return f'Point({self.x1}, {self.x2}, {self.dx})'\n",
    "\n",
    "class Lpara(paraList):\n",
    "    def __init__(self,title,numlist):\n",
    "        self.x1 = numlist[0]\n",
    "        self.x2 = numlist[1]\n",
    "        self.dx = numlist[2]\n",
    "        self.title = title\n",
    "    def toL(self):\n",
    "        numL = [self.x1 + l*self.dx for l in range(int((self.x2-self.x1)/self.dx) + 1)]\n",
    "        return list(numL)   \n",
    "    def toStr(self):\n",
    "        if self.x2>0:\n",
    "            numL = [ self.title + str(self.x1 + l*self.dx) for l in range(int((self.x2-self.x1)/self.dx) + 1)]\n",
    "        else:\n",
    "            numL = [ self.title + \"N\" + str((self.x1 + l*self.dx)*-1) for l in range(int((self.x2-self.x1)/self.dx) + 1)]    \n",
    "        return list(numL)    \n",
    "    def __repr__(self):\n",
    "        return f'Point({self.x1}, {self.x2}, {self.dx})'"
   ]
  },
  {
   "cell_type": "code",
   "execution_count": 2,
   "metadata": {},
   "outputs": [
    {
     "data": {
      "text/plain": [
       "0"
      ]
     },
     "execution_count": 2,
     "metadata": {},
     "output_type": "execute_result"
    }
   ],
   "source": [
    "import os\n",
    "os.system(\"sbatch ./run.sh 1 2 3 4 5 6 7 8 9 10 11 12 13 14\")"
   ]
  },
  {
   "cell_type": "code",
   "execution_count": 2,
   "metadata": {},
   "outputs": [
    {
     "name": "stdout",
     "output_type": "stream",
     "text": [
      "[-16, -32, -48, -64]\n"
     ]
    }
   ],
   "source": [
    "a=Lpara(\"L\",[-16,-64,-16])\n",
    "print(a.toL())"
   ]
  },
  {
   "cell_type": "code",
   "execution_count": 3,
   "metadata": {},
   "outputs": [
    {
     "name": "stdout",
     "output_type": "stream",
     "text": [
      "a\n",
      "key in parameter in the following format : \n",
      "ex : Spin, L1, L2, delta_L, J1, J2, delta_J, D1, D2, delta_D, Pdis, bondDim, initialSampleNumber, finalSampleNumber, sampleDelta, check_Or_Not\n",
      "ex : 15(Spin) 64(L) 1.1(J) 0.1(D) 10(Pdis) 40(bondDim) 1(initialSampleNumber) 20(finalSampleNumber) 5(sampleDelta), Y(check_Or_Not)\n",
      "\n",
      "{'Spin': '15', 'L': ['64', '128', '32'], 'J': ['0.1', '0.5', '0.1'], 'D': ['0.1', '0.4', '0.1'], 'Pdis': '10', 'bondDim': '40', 'initialSampleNumber': 1, 'finalSampleNumber': 50, 'dx': '0', 'sampleDelta': 5, 'check_Or_Not': 'Y'} \n",
      "\n",
      "Spin  :  15\n",
      "L  :  ['64', '128', '32']\n",
      "J  :  ['0.1', '0.5', '0.1']\n",
      "D  :  ['0.1', '0.4', '0.1']\n",
      "Pdis  :  10\n",
      "bondDim  :  40\n",
      "initialSampleNumber  :  1\n",
      "finalSampleNumber  :  50\n",
      "dx  :  0\n",
      "sampleDelta  :  5\n",
      "check_Or_Not  :  Y\n"
     ]
    }
   ],
   "source": [
    "import sys\n",
    "# import scriptCreator\n",
    "\n",
    "task = input(\"What is the task? (a)submit, (b)resubmit, (c)cancel Jobs: : \")\n",
    "print(task)\n",
    "# parameterlist = {\"Spin\":None,\"L1\":None,\"L2\":None,\"delta_L\":None,\"J1\":None,\"J2\":None,\"delta_J\":None,\\\n",
    "#                  \"D1\":None,\"D2\":None,\"delta_D\":None,\"Pdis\":None,\"bondDim\":None,\"initialSampleNumber\":None,\\\n",
    "#                  \"finalSampleNumber\":None,\"sampleDelta\":None,\"check_Or_Not\":None}\n",
    "\n",
    "parameterlist = {\"Spin\":None,\"L\":[None,None,None],\"J\":[None,None,None],\\\n",
    "                 \"D\":[None,None,None],\"Pdis\":None,\"bondDim\":None,\"initialSampleNumber\":None,\\\n",
    "                 \"finalSampleNumber\":None,\"dx\":None,\"sampleDelta\":None,\"check_Or_Not\":None}\n",
    "\n",
    "print(\"key in parameter in the following format : \\n\\\n",
    "ex : Spin, L1, L2, delta_L, J1, J2, delta_J, D1, D2, delta_D, Pdis, bondDim, initialSampleNumber, finalSampleNumber, sampleDelta, check_Or_Not\\n\\\n",
    "ex : 15(Spin) 64(L) 1.1(J) 0.1(D) 10(Pdis) 40(bondDim) 1(initialSampleNumber) 20(finalSampleNumber) 5(sampleDelta), Y(check_Or_Not)\\n\")\n",
    "\n",
    "parameterlist[\"Spin\"]=input(\"Spin : \")\n",
    "\n",
    "parameterlist[\"L\"][0]=input(\"L1 : \")\n",
    "parameterlist[\"L\"][1]=input(\"L2 : \")\n",
    "parameterlist[\"L\"][2]=input(\"delta_L : \")\n",
    "\n",
    "parameterlist[\"J\"][0]=input(\"J1 : \")\n",
    "parameterlist[\"J\"][1]=input(\"J2 : \")\n",
    "parameterlist[\"J\"][2]=input(\"delta_J : \")\n",
    "\n",
    "parameterlist[\"D\"][0]=input(\"D1 : \")\n",
    "parameterlist[\"D\"][1]=input(\"D2 : \")\n",
    "parameterlist[\"D\"][2]=input(\"delta_D : \")\n",
    "\n",
    "parameterlist[\"Pdis\"]=input(\"Pdis : \")\n",
    "parameterlist[\"dx\"]=input(\"dx : \")\n",
    "parameterlist[\"bondDim\"]=input(\"bondDim : \")\n",
    "parameterlist[\"initialSampleNumber\"]=int(input(\"initialSampleNumber : \"))\n",
    "parameterlist[\"finalSampleNumber\"]=int(input(\"finalSampleNumber : \"))\n",
    "parameterlist[\"sampleDelta\"]=int(input(\"sampleDelta : \"))\n",
    "\n",
    "# mark = parameterlist[\"check_Or_Not\"]\n",
    "# while mark != \"Y\" or mark != \"N\":\n",
    "mark = input(\"check_Or_Not(Y/N) : \")\n",
    "\n",
    "parameterlist[\"check_Or_Not\"]=mark\n",
    "\n",
    "# for j in \n",
    "\n",
    "\n",
    "print(parameterlist,\"\\n\")\n",
    "for s in parameterlist:\n",
    "    print(s,\" : \",parameterlist[s])\n",
    "\n",
    "# a = scriptCreator.paraList(\"Jdis\",parameterlist[\"J\"])\n",
    "\n",
    "# print(a.toFlo())\n",
    "# print(a.toStr())\n",
    "\n",
    "# a = scriptCreator.paraList(\"Dim\",parameterlist[\"D\"])\n",
    "\n",
    "# print(a.toFlo())\n",
    "# print(a.toStr())"
   ]
  },
  {
   "cell_type": "code",
   "execution_count": 5,
   "metadata": {},
   "outputs": [
    {
     "data": {
      "text/plain": [
       "['L640', 'L960', 'L1280']"
      ]
     },
     "execution_count": 5,
     "metadata": {},
     "output_type": "execute_result"
    }
   ],
   "source": [
    "a = paraList(\"L\",parameterlist[\"L\"])\n",
    "a.toFlo()\n",
    "a.toStr()\n",
    "\n",
    "\n",
    "\n",
    "\n",
    "\n",
    "\n"
   ]
  },
  {
   "cell_type": "code",
   "execution_count": 12,
   "metadata": {},
   "outputs": [
    {
     "name": "stdout",
     "output_type": "stream",
     "text": [
      "[0.1, 0.2, 0.3, 0.4, 0.5]\n"
     ]
    }
   ],
   "source": [
    "c=a.toFlo()\n",
    "\n",
    "print(c)"
   ]
  },
  {
   "cell_type": "code",
   "execution_count": 80,
   "metadata": {},
   "outputs": [],
   "source": [
    "x1 = 0.1\n",
    "x2 = 0.5\n",
    "dx = 0.1\n",
    "floatlist = [ round(x1 + i*dx,2)  for i in range(int((x2 - x1)/dx))]"
   ]
  },
  {
   "cell_type": "code",
   "execution_count": 79,
   "metadata": {},
   "outputs": [
    {
     "data": {
      "text/plain": [
       "4"
      ]
     },
     "execution_count": 79,
     "metadata": {},
     "output_type": "execute_result"
    }
   ],
   "source": [
    "round((0.5-0.1)/0.1)"
   ]
  },
  {
   "cell_type": "code",
   "execution_count": 82,
   "metadata": {},
   "outputs": [
    {
     "data": {
      "text/plain": [
       "[0.1, 0.2, 0.3, 0.4]"
      ]
     },
     "execution_count": 82,
     "metadata": {},
     "output_type": "execute_result"
    }
   ],
   "source": [
    "floatlist"
   ]
  },
  {
   "cell_type": "code",
   "execution_count": 25,
   "metadata": {},
   "outputs": [],
   "source": [
    "x1=\"0.1\"\n",
    "x2=\"0.5\"\n",
    "dx=\"0.1\"\n",
    "\n",
    "floatlist = [ round(float(x1) + i*float(dx),2)  for i in range(int(round((int(x2[2]) - int(x1[2]))/int(dx[2]))))]"
   ]
  },
  {
   "cell_type": "code",
   "execution_count": 12,
   "metadata": {},
   "outputs": [
    {
     "data": {
      "text/plain": [
       "range(0, 4)"
      ]
     },
     "execution_count": 12,
     "metadata": {},
     "output_type": "execute_result"
    }
   ],
   "source": [
    "range(int(round((int(x2[2]) - int(x1[2]))/int(dx[2]))))"
   ]
  },
  {
   "cell_type": "code",
   "execution_count": 26,
   "metadata": {},
   "outputs": [
    {
     "data": {
      "text/plain": [
       "[0.1, 0.2, 0.3, 0.4]"
      ]
     },
     "execution_count": 26,
     "metadata": {},
     "output_type": "execute_result"
    }
   ],
   "source": [
    "floatlist"
   ]
  },
  {
   "cell_type": "code",
   "execution_count": 8,
   "metadata": {},
   "outputs": [
    {
     "data": {
      "text/plain": [
       "[0.1,\n",
       " 0.2,\n",
       " 0.30000000000000004,\n",
       " 0.4,\n",
       " 0.5,\n",
       " 0.6,\n",
       " 0.7000000000000001,\n",
       " 0.8,\n",
       " 0.9,\n",
       " 1.0]"
      ]
     },
     "execution_count": 8,
     "metadata": {},
     "output_type": "execute_result"
    }
   ],
   "source": [
    "init = 0.1\n",
    "ince = 0.1\n",
    "\n",
    "a = [init + ince*i for i in range(10)]\n",
    "list(a)"
   ]
  },
  {
   "cell_type": "code",
   "execution_count": 1,
   "metadata": {},
   "outputs": [],
   "source": [
    "def x(ini, incre, num):\n",
    "    for a in range(num):\n",
    "        yield ini + incre * num"
   ]
  },
  {
   "cell_type": "code",
   "execution_count": 3,
   "metadata": {},
   "outputs": [
    {
     "ename": "TypeError",
     "evalue": "'float' object cannot be interpreted as an integer",
     "output_type": "error",
     "traceback": [
      "\u001b[0;31m---------------------------------------------------------------------------\u001b[0m",
      "\u001b[0;31mTypeError\u001b[0m                                 Traceback (most recent call last)",
      "\u001b[0;32m<ipython-input-3-4c32a629fa31>\u001b[0m in \u001b[0;36m<module>\u001b[0;34m\u001b[0m\n\u001b[0;32m----> 1\u001b[0;31m \u001b[0;32mfor\u001b[0m \u001b[0ma\u001b[0m \u001b[0;32min\u001b[0m \u001b[0mrange\u001b[0m\u001b[0;34m(\u001b[0m\u001b[0;36m0.1\u001b[0m\u001b[0;34m,\u001b[0m\u001b[0;36m0.5\u001b[0m\u001b[0;34m,\u001b[0m\u001b[0;36m0.1\u001b[0m\u001b[0;34m)\u001b[0m\u001b[0;34m:\u001b[0m\u001b[0;34m\u001b[0m\u001b[0;34m\u001b[0m\u001b[0m\n\u001b[0m\u001b[1;32m      2\u001b[0m     \u001b[0mprint\u001b[0m\u001b[0;34m(\u001b[0m\u001b[0ma\u001b[0m\u001b[0;34m)\u001b[0m\u001b[0;34m\u001b[0m\u001b[0;34m\u001b[0m\u001b[0m\n",
      "\u001b[0;31mTypeError\u001b[0m: 'float' object cannot be interpreted as an integer"
     ]
    }
   ],
   "source": [
    "for a in range(0.1,0.5,0.1):\n",
    "    print(a)"
   ]
  },
  {
   "cell_type": "code",
   "execution_count": 4,
   "metadata": {},
   "outputs": [
    {
     "ename": "TypeError",
     "evalue": "'float' object cannot be interpreted as an integer",
     "output_type": "error",
     "traceback": [
      "\u001b[0;31m---------------------------------------------------------------------------\u001b[0m",
      "\u001b[0;31mTypeError\u001b[0m                                 Traceback (most recent call last)",
      "\u001b[0;32m<ipython-input-4-3f41ad87d25c>\u001b[0m in \u001b[0;36m<module>\u001b[0;34m\u001b[0m\n\u001b[0;32m----> 1\u001b[0;31m \u001b[0mrange\u001b[0m\u001b[0;34m(\u001b[0m\u001b[0;36m0.1\u001b[0m\u001b[0;34m,\u001b[0m\u001b[0;36m0.5\u001b[0m\u001b[0;34m,\u001b[0m\u001b[0;36m0.1\u001b[0m\u001b[0;34m)\u001b[0m\u001b[0;34m\u001b[0m\u001b[0;34m\u001b[0m\u001b[0m\n\u001b[0m",
      "\u001b[0;31mTypeError\u001b[0m: 'float' object cannot be interpreted as an integer"
     ]
    }
   ],
   "source": [
    "range(0.1,0.5,0.1)"
   ]
  },
  {
   "cell_type": "code",
   "execution_count": 8,
   "metadata": {},
   "outputs": [
    {
     "name": "stdout",
     "output_type": "stream",
     "text": [
      "[0.1, -1, 0.2]\n"
     ]
    },
    {
     "data": {
      "text/plain": [
       "['Jdis010', 'JdisN100', 'Jdis020']"
      ]
     },
     "execution_count": 8,
     "metadata": {},
     "output_type": "execute_result"
    }
   ],
   "source": [
    "x = [0.1,-1,0.2]\n",
    "a=paraList(\"Jdis\",x)\n",
    "a.toStr()"
   ]
  },
  {
   "cell_type": "code",
   "execution_count": 31,
   "metadata": {},
   "outputs": [
    {
     "name": "stdout",
     "output_type": "stream",
     "text": [
      "01\n"
     ]
    }
   ],
   "source": [
    "import re\n",
    "\n",
    "string = \"0.1\"\n",
    "string = re.sub(\"\\.\", \"\", string)\n",
    "print(string)"
   ]
  },
  {
   "cell_type": "code",
   "execution_count": 24,
   "metadata": {},
   "outputs": [
    {
     "ename": "AttributeError",
     "evalue": "'str' object has no attribute 'sub'",
     "output_type": "error",
     "traceback": [
      "\u001b[0;31m---------------------------------------------------------------------------\u001b[0m",
      "\u001b[0;31mAttributeError\u001b[0m                            Traceback (most recent call last)",
      "Cell \u001b[0;32mIn[24], line 2\u001b[0m\n\u001b[1;32m      1\u001b[0m a \u001b[38;5;241m=\u001b[39m \u001b[38;5;124m\"\u001b[39m\u001b[38;5;124m.1\u001b[39m\u001b[38;5;124m\"\u001b[39m\n\u001b[0;32m----> 2\u001b[0m \u001b[43ma\u001b[49m\u001b[38;5;241;43m.\u001b[39;49m\u001b[43msub\u001b[49m(\u001b[38;5;124m\"\u001b[39m\u001b[38;5;124m.\u001b[39m\u001b[38;5;124m\"\u001b[39m,\u001b[38;5;124m\"\u001b[39m\u001b[38;5;124m\"\u001b[39m)\n",
      "\u001b[0;31mAttributeError\u001b[0m: 'str' object has no attribute 'sub'"
     ]
    }
   ],
   "source": [
    "a = \".1\"\n",
    "a.sub(\".\",\"\")"
   ]
  },
  {
   "cell_type": "code",
   "execution_count": 33,
   "metadata": {},
   "outputs": [],
   "source": [
    "class yy:\n",
    "    def __init__(self, x, y):\n",
    "        self.x = x\n",
    "        self.y = y\n",
    "    def __repr__(self):\n",
    "        return f'Point({self.x}, {self.y})'"
   ]
  },
  {
   "cell_type": "code",
   "execution_count": 34,
   "metadata": {},
   "outputs": [],
   "source": [
    "a=yy(1,2)"
   ]
  },
  {
   "cell_type": "code",
   "execution_count": null,
   "metadata": {},
   "outputs": [],
   "source": []
  }
 ],
 "metadata": {
  "kernelspec": {
   "display_name": "Python 3",
   "language": "python",
   "name": "python3"
  },
  "language_info": {
   "codemirror_mode": {
    "name": "ipython",
    "version": 3
   },
   "file_extension": ".py",
   "mimetype": "text/x-python",
   "name": "python",
   "nbconvert_exporter": "python",
   "pygments_lexer": "ipython3",
   "version": "3.10.8"
  }
 },
 "nbformat": 4,
 "nbformat_minor": 2
}
